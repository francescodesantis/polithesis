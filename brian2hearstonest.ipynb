{
 "cells": [
  {
   "cell_type": "code",
   "execution_count": 7,
   "metadata": {},
   "outputs": [],
   "source": [
    "# imports\n",
    "import matplotlib.pyplot as plt\n",
    "from brian2 import *\n",
    "from brian2hears import *\n",
    "import nest\n",
    "import nest.voltage_trace\n",
    "nest.set_verbosity(\"M_ERROR\")"
   ]
  },
  {
   "cell_type": "code",
   "execution_count": 8,
   "metadata": {},
   "outputs": [],
   "source": [
    "# params\n",
    "NUM_CF = 100 # 3500 (3.5k cochlea ciliar -> 10 ANF for each -> 35000 ANF)"
   ]
  },
  {
   "cell_type": "code",
   "execution_count": 9,
   "metadata": {},
   "outputs": [],
   "source": [
    "# Inner hair cell model\n",
    "cfmin, cfmax, cfN = 20*Hz, 20*kHz, NUM_CF\n",
    "cf = erbspace(cfmin, cfmax, cfN)\n",
    "sound = tone(1*kHz, 1*second)\n",
    "# sound = Sound.whitenoise(100*ms)\n",
    "gfb = Gammatone(sound, cf)\n",
    "# cochlea modeled as halfwave rectified -> 1/3 power law\n",
    "ihc = FunctionFilterbank(gfb, lambda x: 3*clip(x, 0, Inf)**(1.0/3.0))"
   ]
  },
  {
   "cell_type": "code",
   "execution_count": 10,
   "metadata": {},
   "outputs": [],
   "source": [
    "# To create spiking neuron models based on filter chains, you use the\n",
    "# FilterbankGroup class. This acts exactly like a standard Brian\n",
    "# NeuronGroup except that you give a source filterbank and choose a\n",
    "# state variable in the target equations for the output of the\n",
    "# filterbank\n",
    "\n",
    "# Leaky integrate-and-fire model with noise and refractoriness\n",
    "eqs = '''\n",
    "dv/dt = (I-v)/(1*ms)+0.2*xi*(2/(1*ms))**.5 : 1 (unless refractory)\n",
    "I : 1\n",
    "'''\n",
    "G = FilterbankGroup(ihc, 'I', eqs, reset='v=0',\n",
    "                    threshold='v>1', refractory=5*ms)"
   ]
  },
  {
   "cell_type": "code",
   "execution_count": 11,
   "metadata": {},
   "outputs": [
    {
     "name": "stderr",
     "output_type": "stream",
     "text": [
      "INFO       No numerical integration method specified for group 'neurongroup_1', using method 'euler' (took 0.15s, trying other methods took 0.00s). [brian2.stateupdaters.base.method_choice]\n"
     ]
    },
    {
     "data": {
      "image/png": "[encoded data removed]",
      "text/plain": [
       "<Figure size 640x480 with 1 Axes>"
      ]
     },
     "metadata": {},
     "output_type": "display_data"
    }
   ],
   "source": [
    "# Run, and raster plot of the spikes\n",
    "M = SpikeMonitor(G)\n",
    "run(sound.duration)\n",
    "plot(M.t/ms, M.i, '.')\n",
    "show()"
   ]
  },
  {
   "cell_type": "code",
   "execution_count": 12,
   "metadata": {},
   "outputs": [
    {
     "name": "stdout",
     "output_type": "stream",
     "text": [
      "NEST spike generator:  [6.8]\n",
      "BRIAN2 original spikes:  [6.71201814]\n"
     ]
    }
   ],
   "source": [
    "spike_trains = [e/ms for i, e in M.spike_trains().items()]\n",
    "\n",
    "anfs = nest.Create(\"spike_generator\", cfN)\n",
    "## each cell should create 10 spike generators\n",
    "for i, e in enumerate(spike_trains):\n",
    "    nest.SetStatus(anfs[i], params={\"spike_times\": e,\n",
    "                                 \"allow_offgrid_times\": True})\n",
    "print(\"NEST spike generator: \", nest.GetStatus(anfs[10])[0]['spike_times'])\n",
    "print(\"BRIAN2 original spikes: \", spike_trains[10])"
   ]
  }
 ],
 "metadata": {
  "kernelspec": {
   "display_name": "Python 3",
   "language": "python",
   "name": "python3"
  },
  "language_info": {
   "codemirror_mode": {
    "name": "ipython",
    "version": 3
   },
   "file_extension": ".py",
   "mimetype": "text/x-python",
   "name": "python",
   "nbconvert_exporter": "python",
   "pygments_lexer": "ipython3",
   "version": "3.12.2"
  }
 },
 "nbformat": 4,
 "nbformat_minor": 2
}
