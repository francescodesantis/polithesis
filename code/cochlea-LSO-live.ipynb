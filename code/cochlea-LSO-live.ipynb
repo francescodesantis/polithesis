{
 "cells": [
  {
   "cell_type": "code",
   "execution_count": 2,
   "metadata": {},
   "outputs": [
    {
     "name": "stdout",
     "output_type": "stream",
     "text": [
      "2024-04-25 14:03:39,215 [INFO ]  generating sound database...\n",
      "2024-04-25 14:03:39,318 [INFO ]  generated 13 pairs of inputs to IHCs...\n",
      "2024-04-25 14:03:39,318 [INFO ]  >> begin handling azimuth angle 90...\n",
      "2024-04-25 14:03:39,319 [INFO ]  \tgenerating spikes ...\n"
     ]
    },
    {
     "name": "stderr",
     "output_type": "stream",
     "text": [
      "INFO       No numerical integration method specified for group 'neurongroup', using method 'euler' (took 0.01s, trying other methods took 0.00s). [brian2.stateupdaters.base.method_choice]\n",
      "INFO       No numerical integration method specified for group 'neurongroup_1', using method 'euler' (took 0.00s, trying other methods took 0.00s). [brian2.stateupdaters.base.method_choice]\n"
     ]
    },
    {
     "name": "stdout",
     "output_type": "stream",
     "text": [
      "2024-04-25 14:03:59,074 [INFO ]  \tcreating corresponding model...\n",
      "2024-04-25 14:05:15,230 [INFO ]  results so far: 755,742,15115,9843\n"
     ]
    }
   ],
   "source": [
    "from time import sleep\n",
    "import matplotlib.pyplot as plt\n",
    "from SLModel import SLModel\n",
    "from cochlea import spike_generator_from_sound, generate_sound_database\n",
    "from utils import logger\n",
    "import nest\n",
    "import nest.voltage_trace\n",
    "\n",
    "\n",
    "nest.set_verbosity(\"M_ERROR\")\n",
    "\n",
    "models = {}\n",
    "logger.info(f\"generating sound database...\")\n",
    "\n",
    "coord2sounds = generate_sound_database()\n",
    "logger.info(f\"generated {len(coord2sounds.keys())} pairs of inputs to IHCs...\")\n",
    "\n",
    "for angle, inputs in coord2sounds.items():\n",
    "    logger.info(f\">> begin handling azimuth angle {angle}...\")\n",
    "    logger.info(f\"\\tgenerating spikes ...\")\n",
    "    anfs_left, anfs_right = spike_generator_from_sound(inputs)\n",
    "\n",
    "    logger.info(f\"\\tcreating corresponding model...\")\n",
    "    model = SLModel([anfs_left, anfs_right])  # params\n",
    "    model.simulate(1000)\n",
    "\n",
    "    results = model.analyze()\n",
    "    logger.info(f\"results so far: {results[0]},{results[1]},{results[2]},{results[3]}\")\n",
    "    \n",
    "\n",
    "    models[angle] = [model,results]\n"
   ]
  },
  {
   "cell_type": "code",
   "execution_count": 3,
   "metadata": {},
   "outputs": [
    {
     "ename": "KeyError",
     "evalue": "0",
     "output_type": "error",
     "traceback": [
      "\u001b[0;31m---------------------------------------------------------------------------\u001b[0m",
      "\u001b[0;31mKeyError\u001b[0m                                  Traceback (most recent call last)",
      "Cell \u001b[0;32mIn[3], line 1\u001b[0m\n\u001b[0;32m----> 1\u001b[0m \u001b[43mmodels\u001b[49m\u001b[43m[\u001b[49m\u001b[38;5;241;43m0\u001b[39;49m\u001b[43m]\u001b[49m\u001b[38;5;241m.\u001b[39ms_rec_r\u001b[38;5;241m.\u001b[39mget(\u001b[38;5;124m\"\u001b[39m\u001b[38;5;124mevents\u001b[39m\u001b[38;5;124m\"\u001b[39m)\n",
      "\u001b[0;31mKeyError\u001b[0m: 0"
     ]
    }
   ],
   "source": [
    "models[0].s_rec_r.get(\"events\")"
   ]
  }
 ],
 "metadata": {
  "kernelspec": {
   "display_name": "Python 3",
   "language": "python",
   "name": "python3"
  },
  "language_info": {
   "codemirror_mode": {
    "name": "ipython",
    "version": 3
   },
   "file_extension": ".py",
   "mimetype": "text/x-python",
   "name": "python",
   "nbconvert_exporter": "python",
   "pygments_lexer": "ipython3",
   "version": "3.12.3"
  }
 },
 "nbformat": 4,
 "nbformat_minor": 2
}
