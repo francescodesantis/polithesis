{
 "cells": [
  {
   "cell_type": "markdown",
   "metadata": {},
   "source": [
    "# prepare"
   ]
  },
  {
   "cell_type": "code",
   "execution_count": 2,
   "metadata": {},
   "outputs": [],
   "source": [
    "from config import bucket_name, client\n",
    "from pathlib import Path\n",
    "import os\n",
    "\n",
    "save_dir = Path(\"./data\")\n",
    "# check if folder exists, ok if it does\n",
    "os.makedirs(save_dir, exist_ok=True)\n",
    "\n",
    "\n",
    "def download_from_gcs(blob_name: str, save_path: Path):\n",
    "    \"\"\"Downloads a file from Google Cloud Storage\"\"\"\n",
    "    bucket = client.bucket(bucket_name)\n",
    "    blob = bucket.blob(blob_name)\n",
    "    blob.download_to_filename(str(save_path))\n",
    "    print(f\"Downloaded {blob_name} to {save_path}\")\n",
    "\n",
    "\n",
    "def show_blob_info(blob):\n",
    "    \"\"\"Prints information about a blob in a single line\"\"\"\n",
    "    print(f\"Name: {blob.name}, Size: {blob.size}, Updated: {blob.updated}\")\n",
    "\n",
    "def download_blobs(blob_names:list[str] = None, save_dir=save_dir):\n",
    "    \"\"\"Downloads a list of blobs from Google Cloud Storage\"\"\"\n",
    "    if blob_names is None:\n",
    "        blob_names = [blob.name for blob in  client.list_blobs(bucket_name)]\n",
    "        print(f\"Downloading all blobs from {bucket_name}\")\n",
    "\n",
    "    for blob_name in blob_names:\n",
    "        save_path = save_dir / blob_name\n",
    "        download_from_gcs(blob_name, save_path)\n",
    "        \n",
    "def list_blob_names():\n",
    "    \"\"\"Lists all the blobs in a bucket\"\"\"\n",
    "    bucket = client.bucket(bucket_name)\n",
    "    blobs = bucket.list_blobs()\n",
    "    for blob in blobs:\n",
    "        show_blob_info(blob)\n",
    "\n",
    "def delete_from_gcs(blob_name: str):\n",
    "    \"\"\"Deletes a file from Google Cloud Storage\"\"\"\n",
    "    bucket = client.bucket(bucket_name)\n",
    "    blob = bucket.blob(blob_name)\n",
    "    blob.delete()\n",
    "    print(f\"Deleted {blob_name}\")\n",
    "\n",
    "def delete_blobs(blob_names:list[str] = None):\n",
    "    \"\"\"Deletes a list of blobs from Google Cloud Storage\"\"\"\n",
    "    if blob_names is None:\n",
    "        blob_names = [blob.name for blob in  client.list_blobs(bucket_name)]\n",
    "        print(f\"Deleting all blobs from {bucket_name}\")\n",
    "\n",
    "    for blob_name in blob_names:\n",
    "        delete_from_gcs(blob_name)\n"
   ]
  },
  {
   "cell_type": "code",
   "execution_count": null,
   "metadata": {},
   "outputs": [
    {
     "name": "stdout",
     "output_type": "stream",
     "text": [
      "Name: 2025-03-19T15:09:21&tone_100.Hz_70dB&TanCarney&v0&subject_1.pic, Size: 4069693, Updated: 2025-03-19 15:10:40.578000+00:00\n"
     ]
    }
   ],
   "source": [
    "list_blob_names()\n",
    "# download_blobs([\"result_1.txt\"])\n",
    "# download_blobs()\n",
    "# delete_blobs([\"result_1.txt\"])\n",
    "#delete_blobs()"
   ]
  }
 ],
 "metadata": {
  "kernelspec": {
   "display_name": "hears_v2",
   "language": "python",
   "name": "python3"
  },
  "language_info": {
   "codemirror_mode": {
    "name": "ipython",
    "version": 3
   },
   "file_extension": ".py",
   "mimetype": "text/x-python",
   "name": "python",
   "nbconvert_exporter": "python",
   "pygments_lexer": "ipython3",
   "version": "3.12.3"
  }
 },
 "nbformat": 4,
 "nbformat_minor": 2
}
