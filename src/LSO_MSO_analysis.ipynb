{
 "cells": [
  {
   "cell_type": "code",
   "execution_count": 1,
   "metadata": {},
   "outputs": [],
   "source": [
    "%load_ext autoreload\n",
    "%autoreload 2\n",
    "%matplotlib widget\n",
    "import dill\n",
    "import numpy as np\n",
    "import matplotlib.pyplot as plt\n",
    "import scipy as scp\n",
    "import os\n",
    "from pathlib import Path\n",
    "import consts as C\n",
    "import ipywidgets as widgets\n",
    "\n",
    "from os import listdir\n",
    "from os.path import isfile, join\n",
    "import datetime\n",
    "\n",
    "\n",
    "results_dir = Path(os.getcwd()) / Path(C.Paths.RESULTS_DIR)\n",
    "files = [f for f in listdir(results_dir) if isfile(join(results_dir, f))]\n",
    "selected_files = []\n",
    "\n",
    "file_selector = widgets.SelectMultiple(rows=10, options = files, description='Data files:', layout = widgets.Layout(width='fit-content'))\n",
    "button = widgets.Button(description=\"Plot Selected\")\n",
    "ax = None\n",
    "out = widgets.Output()\n",
    "\n",
    "plt.rcParams['axes.grid'] = True\n"
   ]
  },
  {
   "cell_type": "code",
   "execution_count": 2,
   "metadata": {},
   "outputs": [],
   "source": [
    "def draw_rate_vs_angle(data, filename):\n",
    "    angle_to_rate = data[\"angle_to_rate\"]\n",
    "    name = data[\"conf\"][\"model_desc\"][\"name\"]\n",
    "    sound_key = data[\"conf\"][\"sound_key\"]\n",
    "    # cochlea = data[\"conf\"][\"cochlea_type\"]\n",
    "    \n",
    "    angles = list(angle_to_rate.keys())\n",
    "\n",
    "    arr_n_spikes_r_lso = [x[\"n_spikes_r_lso\"] for angle, x in angle_to_rate.items()]\n",
    "    arr_n_spikes_l_lso = [x[\"n_spikes_l_lso\"] for angle, x in angle_to_rate.items()]\n",
    "    arr_n_spikes_r_mso = [x[\"n_spikes_r_mso\"] for angle, x in angle_to_rate.items()]\n",
    "    arr_n_spikes_l_mso = [x[\"n_spikes_l_mso\"] for angle, x in angle_to_rate.items()]\n",
    "    \n",
    "    fig, [lso, mso] = plt.subplots(2, 1)\n",
    "    # fig.suptitle(f\"{name} with {sound_key}\")\n",
    "    fig.suptitle(filename)\n",
    "    plt.setp([lso,mso], xticks = angles)\n",
    "\n",
    "    lso.plot(angles, arr_n_spikes_r_lso, \".-\", label=\"right lso\")\n",
    "    lso.plot(angles, arr_n_spikes_l_lso, \".-\", label=\"left lso\")\n",
    "    lso.set_ylabel(\"total spikes\")\n",
    "    _ = lso.legend()\n",
    "\n",
    "    mso.plot(angles, arr_n_spikes_r_mso, \".-\",  label=\"right mso\")\n",
    "    mso.plot(angles, arr_n_spikes_l_mso, \".-\",  label=\"left mso\")\n",
    "\n",
    "    mso.set_xlabel(\"sound position\")\n",
    "    mso.set_ylabel(\"total spikes\")\n",
    "    _ = mso.legend()\n",
    "    plt.tight_layout()\n",
    "    plt.show()"
   ]
  },
  {
   "cell_type": "code",
   "execution_count": 3,
   "metadata": {},
   "outputs": [
    {
     "data": {
      "application/vnd.jupyter.widget-view+json": {
       "model_id": "9a3b3b73ccdb4eedb24bc80b92a85824",
       "version_major": 2,
       "version_minor": 0
      },
      "text/plain": [
       "VBox(children=(SelectMultiple(description='Data files:', layout=Layout(width='fit-content'), options=('tone_10…"
      ]
     },
     "execution_count": 3,
     "metadata": {},
     "output_type": "execute_result"
    }
   ],
   "source": [
    "@out.capture(clear_output=True,wait=True)\n",
    "def on_button_clicked(b):\n",
    "    global file_selector\n",
    "    selected_files = file_selector.value\n",
    "    for selected in selected_files:\n",
    "        with open(join(results_dir,selected), \"rb\") as f:\n",
    "            res = dill.load(f, ignore=True)\n",
    "        draw_rate_vs_angle(res, selected)\n",
    "    vbox.children = [file_selector,button, out]\n",
    "        \n",
    "button.on_click(on_button_clicked)\n",
    "vbox = widgets.VBox([file_selector,button])\n",
    "vbox"
   ]
  },
  {
   "cell_type": "code",
   "execution_count": 59,
   "metadata": {},
   "outputs": [
    {
     "name": "stdout",
     "output_type": "stream",
     "text": [
      "Sound duration 1. s, channels 1, samplerate 44.1 kHz Sound duration 1. s, channels 1, samplerate 44.1 kHz\n"
     ]
    }
   ],
   "source": [
    "from utils.cochlea import sounds_to_spikes\n",
    "from brian2hears import Sound, IRCAM_LISTEN\n",
    "from brian2 import kHz,second\n",
    "from consts import Paths\n",
    "\n",
    "sound = Sound.tone(2*kHz, 1*second)\n",
    "hrtfdb = IRCAM_LISTEN(Paths.IRCAM_DIR)\n",
    "hrtfset = hrtfdb.load_subject(hrtfdb.subjects[0])\n",
    "# far left\n",
    "hrtf = hrtfset(azim=90, elev=0)\n",
    "# binaural_sound = hrtf.filterbank(sound).process().T\n",
    "binaural_sound = hrtf(sound)\n",
    "# print(binaural_sound)\n",
    "# print(binaural_sound.left)\n",
    "left, right = binaural_sound.left, binaural_sound.right\n",
    "print(left, right)\n",
    "\n",
    "# sounds_to_spikes(binaural_sound,plot_spikes=True)"
   ]
  }
 ],
 "metadata": {
  "kernelspec": {
   "display_name": "Python 3",
   "language": "python",
   "name": "python3"
  },
  "language_info": {
   "codemirror_mode": {
    "name": "ipython",
    "version": 3
   },
   "file_extension": ".py",
   "mimetype": "text/x-python",
   "name": "python",
   "nbconvert_exporter": "python",
   "pygments_lexer": "ipython3",
   "version": "3.12.3"
  }
 },
 "nbformat": 4,
 "nbformat_minor": 2
}
