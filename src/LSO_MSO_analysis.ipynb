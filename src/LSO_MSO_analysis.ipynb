{
 "cells": [
  {
   "cell_type": "code",
   "execution_count": 1,
   "metadata": {},
   "outputs": [],
   "source": [
    "%load_ext autoreload\n",
    "%autoreload 2\n",
    "%matplotlib widget\n",
    "import dill\n",
    "import numpy as np\n",
    "import matplotlib.pyplot as plt\n",
    "import scipy as scp\n",
    "import os\n",
    "from pathlib import Path\n",
    "import consts as C\n",
    "import ipywidgets as widgets\n",
    "\n",
    "from os import listdir\n",
    "from os.path import isfile, join\n",
    "import brian2 as b2\n",
    "import datetime"
   ]
  },
  {
   "cell_type": "code",
   "execution_count": 2,
   "metadata": {},
   "outputs": [],
   "source": [
    "results_dir = Path(os.getcwd()) / Path(C.Paths.RESULTS_DIR)\n",
    "files = [f for f in listdir(results_dir) if isfile(join(results_dir, f))]\n",
    "files.sort()\n",
    "selected_files = []\n",
    "\n",
    "file_selector = widgets.SelectMultiple(rows=10, options = files, description='Data files:', layout = widgets.Layout(width='fit-content'))\n",
    "button = widgets.Button(description=\"Plot Selected\")\n",
    "show_lso_check = widgets.Checkbox(\n",
    "    value=True,\n",
    "    description='LSO',\n",
    "    disabled=False,\n",
    "    indent=False\n",
    ")\n",
    "show_mso_check = widgets.Checkbox(\n",
    "    value=True,\n",
    "    description='MSO',\n",
    "    disabled=False,\n",
    "    indent=False\n",
    ")\n",
    "\n",
    "ax = None\n",
    "\n",
    "plt.rcParams['axes.grid'] = True\n",
    "plt.rcParams[\"figure.figsize\"] = (8,3)\n"
   ]
  },
  {
   "cell_type": "code",
   "execution_count": 3,
   "metadata": {},
   "outputs": [],
   "source": [
    "def draw_rate_vs_angle(data, filename, show_lso = True, show_mso = True):\n",
    "    angle_to_rate = data[\"angle_to_rate\"]\n",
    "    name = data[\"conf\"][\"model_desc\"][\"name\"]\n",
    "    sound_key = data[\"conf\"][\"sound_key\"]\n",
    "    # cochlea = data[\"conf\"][\"cochlea_type\"]\n",
    "    \n",
    "    angles = list(angle_to_rate.keys())\n",
    "    def average_firing_rate(x):\n",
    "        active_neurons = set(x)\n",
    "        return (len(x[\"times\"])/len(active_neurons)) if len(active_neurons) >= 0 else 0\n",
    "\n",
    "    arr_n_spikes_r_lso = [average_firing_rate(x[\"R\"][\"LSO\"][\"spikes\"]) for angle, x in angle_to_rate.items()]\n",
    "    arr_n_spikes_l_lso = [average_firing_rate(x[\"L\"][\"LSO\"][\"spikes\"]) for angle, x in angle_to_rate.items()]\n",
    "    arr_n_spikes_r_mso = [average_firing_rate(x[\"R\"][\"MSO\"][\"spikes\"]) for angle, x in angle_to_rate.items()]\n",
    "    arr_n_spikes_l_mso = [average_firing_rate(x[\"L\"][\"MSO\"][\"spikes\"]) for angle, x in angle_to_rate.items()]\n",
    "\n",
    "    lso = {\n",
    "        \"spikes\": [arr_n_spikes_r_lso,arr_n_spikes_l_lso],\n",
    "        \"show\": show_lso,\n",
    "        \"label\": \"lso\"\n",
    "    }\n",
    "    mso = {\n",
    "        \"spikes\": [arr_n_spikes_r_mso,arr_n_spikes_l_mso],\n",
    "        \"show\": show_mso,\n",
    "        \"label\": \"mso\"\n",
    "    }\n",
    "    data = []\n",
    "    for i in [lso,mso]:\n",
    "        if i[\"show\"]:\n",
    "            data.append(i)\n",
    "    num_subplots = len(data)\n",
    "    fig, ax = plt.subplots(num_subplots, figsize=(8, 2*num_subplots))\n",
    "    if type(ax) is not np.ndarray:\n",
    "        ax = [ax]\n",
    "    for axis,d in zip(ax,data):\n",
    "        axis.plot(angles, d[\"spikes\"][0], \".-\", label=f\"right {d[\"label\"]}\")\n",
    "        axis.plot(angles, d[\"spikes\"][1], \".-\", label=f\"left {d[\"label\"]}\")\n",
    "        axis.set_ylabel(\"avg spk/sec (Hz)\")\n",
    "        _ = axis.legend()\n",
    "    # fig.suptitle(f\"{name} with {sound_key}\")\n",
    "    plt.suptitle(filename)\n",
    "    plt.setp([ax], xticks = angles)\n",
    "\n",
    "    plt.tight_layout()\n",
    "    plt.show()"
   ]
  },
  {
   "cell_type": "code",
   "execution_count": 4,
   "metadata": {},
   "outputs": [],
   "source": [
    "from sorcery import dict_of\n",
    "\n",
    "\n",
    "def show_stats(data, lso, mso):\n",
    "    total_spikes_R_LSO = sum(\n",
    "        [len(x[\"R\"][\"LSO\"][\"spikes\"][\"times\"]) for angle, x in data[\"angle_to_rate\"].items()]\n",
    "    )\n",
    "    total_spikes_L_LSO = sum(\n",
    "        [len(x[\"L\"][\"LSO\"][\"spikes\"][\"times\"]) for angle, x in data[\"angle_to_rate\"].items()]\n",
    "    )\n",
    "    total_spikes_R_MSO = sum(\n",
    "        [len(x[\"R\"][\"MSO\"][\"spikes\"][\"times\"]) for angle, x in data[\"angle_to_rate\"].items()]\n",
    "    )\n",
    "    total_spikes_L_MSO = sum(\n",
    "        [len(x[\"L\"][\"MSO\"][\"spikes\"][\"times\"]) for angle, x in data[\"angle_to_rate\"].items()]\n",
    "    )\n",
    "    print(\n",
    "        dict_of(\n",
    "            total_spikes_R_LSO,\n",
    "            total_spikes_L_LSO,\n",
    "            total_spikes_R_MSO,\n",
    "            total_spikes_L_MSO,\n",
    "        )\n",
    "    )"
   ]
  },
  {
   "cell_type": "code",
   "execution_count": 5,
   "metadata": {},
   "outputs": [
    {
     "data": {
      "application/vnd.jupyter.widget-view+json": {
       "model_id": "46b6b68864b14edba7d5fdd455bf137f",
       "version_major": 2,
       "version_minor": 0
      },
      "text/plain": [
       "VBox(children=(SelectMultiple(description='Data files:', layout=Layout(width='fit-content'), options=('tone_1.…"
      ]
     },
     "metadata": {},
     "output_type": "display_data"
    }
   ],
   "source": [
    "out = widgets.Output()\n",
    "\n",
    "@out.capture(clear_output=True, wait=True)\n",
    "def on_button_clicked(b):\n",
    "    global file_selector, selected_files, ax, out, vbox, show_mso_check, show_lso_check,hbox\n",
    "    selected_files = file_selector.value\n",
    "    show_lso_v, show_mso_v = show_lso_check.value, show_mso_check.value\n",
    "    # print(\"selected: \", selected_files)\n",
    "    plt.close()\n",
    "        \n",
    "    for selected in selected_files:\n",
    "        with open(join(results_dir, selected), \"rb\") as f:\n",
    "            res = dill.load(f, ignore=True)\n",
    "        with out:\n",
    "            draw_rate_vs_angle(res, selected,show_lso_v, show_mso_v)\n",
    "            show_stats(res,show_lso_v,show_mso_v)\n",
    "    vbox.children = [file_selector, hbox, out]\n",
    "\n",
    "hbox = widgets.HBox([button, show_lso_check,show_mso_check])\n",
    "\n",
    "button.on_click(on_button_clicked)\n",
    "vbox = widgets.VBox([file_selector, hbox])\n",
    "display(vbox)"
   ]
  },
  {
   "cell_type": "code",
   "execution_count": 6,
   "metadata": {},
   "outputs": [
    {
     "ename": "FileNotFoundError",
     "evalue": "[Errno 2] No such file or directory: '/home/paolo/Documents/school/master/polimi/thesis/polithesis/src/../results/tone_100.Hz_90dB&realistic_subj1003&inh_model&default_params&2024-07-24T18:49:28.pic'",
     "output_type": "error",
     "traceback": [
      "\u001b[0;31m---------------------------------------------------------------------------\u001b[0m",
      "\u001b[0;31mFileNotFoundError\u001b[0m                         Traceback (most recent call last)",
      "Cell \u001b[0;32mIn[6], line 1\u001b[0m\n\u001b[0;32m----> 1\u001b[0m \u001b[38;5;28;01mwith\u001b[39;00m \u001b[38;5;28;43mopen\u001b[39;49m\u001b[43m(\u001b[49m\u001b[43mjoin\u001b[49m\u001b[43m(\u001b[49m\u001b[43mresults_dir\u001b[49m\u001b[43m,\u001b[49m\u001b[38;5;124;43m\"\u001b[39;49m\u001b[38;5;124;43mtone_100.Hz_90dB&realistic_subj1003&inh_model&default_params&2024-07-24T18:49:28.pic\u001b[39;49m\u001b[38;5;124;43m\"\u001b[39;49m\u001b[43m)\u001b[49m\u001b[43m,\u001b[49m\u001b[43m \u001b[49m\u001b[38;5;124;43m\"\u001b[39;49m\u001b[38;5;124;43mrb\u001b[39;49m\u001b[38;5;124;43m\"\u001b[39;49m\u001b[43m)\u001b[49m \u001b[38;5;28;01mas\u001b[39;00m f:\n\u001b[1;32m      2\u001b[0m     res \u001b[38;5;241m=\u001b[39m dill\u001b[38;5;241m.\u001b[39mload(f, ignore\u001b[38;5;241m=\u001b[39m\u001b[38;5;28;01mTrue\u001b[39;00m)\n",
      "File \u001b[0;32m~/programs/micromamba/envs/hears/lib/python3.12/site-packages/IPython/core/interactiveshell.py:324\u001b[0m, in \u001b[0;36m_modified_open\u001b[0;34m(file, *args, **kwargs)\u001b[0m\n\u001b[1;32m    317\u001b[0m \u001b[38;5;28;01mif\u001b[39;00m file \u001b[38;5;129;01min\u001b[39;00m {\u001b[38;5;241m0\u001b[39m, \u001b[38;5;241m1\u001b[39m, \u001b[38;5;241m2\u001b[39m}:\n\u001b[1;32m    318\u001b[0m     \u001b[38;5;28;01mraise\u001b[39;00m \u001b[38;5;167;01mValueError\u001b[39;00m(\n\u001b[1;32m    319\u001b[0m         \u001b[38;5;124mf\u001b[39m\u001b[38;5;124m\"\u001b[39m\u001b[38;5;124mIPython won\u001b[39m\u001b[38;5;124m'\u001b[39m\u001b[38;5;124mt let you open fd=\u001b[39m\u001b[38;5;132;01m{\u001b[39;00mfile\u001b[38;5;132;01m}\u001b[39;00m\u001b[38;5;124m by default \u001b[39m\u001b[38;5;124m\"\u001b[39m\n\u001b[1;32m    320\u001b[0m         \u001b[38;5;124m\"\u001b[39m\u001b[38;5;124mas it is likely to crash IPython. If you know what you are doing, \u001b[39m\u001b[38;5;124m\"\u001b[39m\n\u001b[1;32m    321\u001b[0m         \u001b[38;5;124m\"\u001b[39m\u001b[38;5;124myou can use builtins\u001b[39m\u001b[38;5;124m'\u001b[39m\u001b[38;5;124m open.\u001b[39m\u001b[38;5;124m\"\u001b[39m\n\u001b[1;32m    322\u001b[0m     )\n\u001b[0;32m--> 324\u001b[0m \u001b[38;5;28;01mreturn\u001b[39;00m \u001b[43mio_open\u001b[49m\u001b[43m(\u001b[49m\u001b[43mfile\u001b[49m\u001b[43m,\u001b[49m\u001b[43m \u001b[49m\u001b[38;5;241;43m*\u001b[39;49m\u001b[43margs\u001b[49m\u001b[43m,\u001b[49m\u001b[43m \u001b[49m\u001b[38;5;241;43m*\u001b[39;49m\u001b[38;5;241;43m*\u001b[39;49m\u001b[43mkwargs\u001b[49m\u001b[43m)\u001b[49m\n",
      "\u001b[0;31mFileNotFoundError\u001b[0m: [Errno 2] No such file or directory: '/home/paolo/Documents/school/master/polimi/thesis/polithesis/src/../results/tone_100.Hz_90dB&realistic_subj1003&inh_model&default_params&2024-07-24T18:49:28.pic'"
     ]
    }
   ],
   "source": [
    "with open(join(results_dir,\"tone_100.Hz_90dB&realistic_subj1003&inh_model&default_params&2024-07-24T18:49:28.pic\"), \"rb\") as f:\n",
    "    res = dill.load(f, ignore=True)\n"
   ]
  },
  {
   "cell_type": "code",
   "execution_count": null,
   "metadata": {},
   "outputs": [],
   "source": [
    "current = res[\"angle_to_rate\"][-90][\"R\"][\"LSO\"][\"spikes\"]\n",
    "active_neurons = set(current[\"senders\"])\n",
    "# from generate_results import TIME_SIMULATION\n",
    "average_firing_rate = (len(current[\"times\"])/len(active_neurons))*b2.Hz if len(active_neurons) >= 0 else 0\n",
    "average_firing_rate\n"
   ]
  },
  {
   "cell_type": "code",
   "execution_count": null,
   "metadata": {},
   "outputs": [],
   "source": [
    "fix,ax = plt.subplots(2)\n",
    "ax\n",
    "type(ax) is np.ndarray"
   ]
  },
  {
   "cell_type": "code",
   "execution_count": null,
   "metadata": {},
   "outputs": [],
   "source": [
    "with open(join(results_dir,\"tone_1.kHz&ppg&inh_model&default_params&2024-07-20T20:55:28.pic\"), \"rb\") as f:\n",
    "    res = dill.load(f, ignore=True)\n",
    "draw_rate_vs_angle(res,\"filename\", True, True)"
   ]
  }
 ],
 "metadata": {
  "kernelspec": {
   "display_name": "Python 3",
   "language": "python",
   "name": "python3"
  },
  "language_info": {
   "codemirror_mode": {
    "name": "ipython",
    "version": 3
   },
   "file_extension": ".py",
   "mimetype": "text/x-python",
   "name": "python",
   "nbconvert_exporter": "python",
   "pygments_lexer": "ipython3",
   "version": "3.12.3"
  }
 },
 "nbformat": 4,
 "nbformat_minor": 2
}
