{
 "cells": [
  {
   "cell_type": "code",
   "execution_count": 3,
   "metadata": {},
   "outputs": [
    {
     "name": "stderr",
     "output_type": "stream",
     "text": [
      "/usr/lib/python3/dist-packages/pythran/tables.py:4520: FutureWarning:In the future `np.bool` will be defined as the corresponding NumPy scalar.\n",
      "/usr/lib/python3/dist-packages/pythran/tables.py:4553: FutureWarning:In the future `np.bytes` will be defined as the corresponding NumPy scalar.\n"
     ]
    },
    {
     "name": "stdout",
     "output_type": "stream",
     "text": [
      "is this working?\n"
     ]
    }
   ],
   "source": [
    "%run 'test-brian2hears.py'"
   ]
  }
 ],
 "metadata": {
  "kernelspec": {
   "display_name": "Python 3 (ipykernel)",
   "language": "python",
   "name": "python3"
  }
 },
 "nbformat": 4,
 "nbformat_minor": 2
}
